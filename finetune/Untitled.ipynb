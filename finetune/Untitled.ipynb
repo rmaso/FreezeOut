{
 "cells": [
  {
   "cell_type": "code",
   "execution_count": null,
   "metadata": {},
   "outputs": [
    {
     "name": "stdout",
     "output_type": "stream",
     "text": [
      "_________________________________________________________________\n",
      "Layer (type)                 Output Shape              Param #   \n",
      "=================================================================\n",
      "image_input (InputLayer)     (None, 32, 32, 3)         0         \n",
      "_________________________________________________________________\n",
      "vgg16 (Model)                multiple                  14714688  \n",
      "_________________________________________________________________\n",
      "flatten (Flatten)            (None, 512)               0         \n",
      "_________________________________________________________________\n",
      "fc1 (Dense)                  (None, 4096)              2101248   \n",
      "_________________________________________________________________\n",
      "fc2 (Dense)                  (None, 4096)              16781312  \n",
      "_________________________________________________________________\n",
      "predictions (Dense)          (None, 10)                40970     \n",
      "=================================================================\n",
      "Total params: 33,638,218\n",
      "Trainable params: 18,923,530\n",
      "Non-trainable params: 14,714,688\n",
      "_________________________________________________________________\n",
      "Train on 20000 samples, validate on 10000 samples\n",
      "Epoch 1/50\n",
      "20000/20000 [==============================] - 1629s - loss: 14.5906 - acc: 0.0935 - val_loss: 14.6804 - val_acc: 0.0892\n",
      "Epoch 2/50\n",
      "20000/20000 [==============================] - 2691s - loss: 14.6876 - acc: 0.0887 - val_loss: 14.6804 - val_acc: 0.0892\n",
      "Epoch 3/50\n",
      "20000/20000 [==============================] - 3171s - loss: 14.6876 - acc: 0.0887 - val_loss: 14.6804 - val_acc: 0.0892\n",
      "Epoch 4/50\n",
      "20000/20000 [==============================] - 3147s - loss: 14.6876 - acc: 0.0887 - val_loss: 14.6804 - val_acc: 0.0892\n",
      "Epoch 5/50\n",
      " 4800/20000 [======>.......................] - ETA: 2020s - loss: 14.6775 - acc: 0.0894"
     ]
    }
   ],
   "source": [
    "import sys\n",
    "import numpy as np\n",
    "import cv2\n",
    "import sklearn.metrics as sklm\n",
    "\n",
    "from keras.applications.vgg16 import VGG16\n",
    "from keras.preprocessing import image\n",
    "from keras.applications.vgg16 import preprocess_input\n",
    "from keras.layers import Input, Flatten, Dense\n",
    "from keras.models import Model\n",
    "from keras.datasets import mnist\n",
    "\n",
    "from keras import backend as K\n",
    "img_dim_ordering = 'tf'\n",
    "K.set_image_dim_ordering(img_dim_ordering)\n",
    "\n",
    "# the model\n",
    "def pretrained_model(img_shape, num_classes, layer_type):\n",
    "    model_vgg16_conv = VGG16(weights='imagenet', include_top=False)\n",
    "    #model_vgg16_conv.summary()\n",
    "    \n",
    "    model_vgg16_conv.trainable = False\n",
    "        \n",
    "    #Create your own input format\n",
    "    keras_input = Input(shape=img_shape, name = 'image_input')\n",
    "    \n",
    "    #Use the generated model \n",
    "    output_vgg16_conv = model_vgg16_conv(keras_input)\n",
    "    \n",
    "    #Add the fully-connected layers \n",
    "    x = Flatten(name='flatten')(output_vgg16_conv)\n",
    "    x = Dense(4096, activation=layer_type, name='fc1')(x)\n",
    "    x = Dense(4096, activation=layer_type, name='fc2')(x)\n",
    "    x = Dense(num_classes, activation='softmax', name='predictions')(x)\n",
    "    \n",
    "    #Create your own model \n",
    "    pretrained_model = Model(inputs=keras_input, outputs=x)\n",
    "    pretrained_model.compile(loss='sparse_categorical_crossentropy', optimizer='adam', metrics=['accuracy'])\n",
    "    \n",
    "    return pretrained_model\n",
    "\n",
    "# loading the data\n",
    "(x_train, y_train), (x_test, y_test) = mnist.load_data()\n",
    "\n",
    "# converting it to RGB\n",
    "x_train = [cv2.cvtColor(cv2.resize(i, (32,32)), cv2.COLOR_GRAY2BGR) for i in x_train]\n",
    "x_train = np.concatenate([arr[np.newaxis] for arr in x_train]).astype('float32')\n",
    "\n",
    "x_test = [cv2.cvtColor(cv2.resize(i, (32,32)), cv2.COLOR_GRAY2BGR) for i in x_test]\n",
    "x_test = np.concatenate([arr[np.newaxis] for arr in x_test]).astype('float32')\n",
    "\n",
    "# training the model\n",
    "model = pretrained_model(x_train.shape[1:], len(set(y_train)), 'relu')\n",
    "model.summary()\n",
    "hist = model.fit(x_train[:20000], y_train[:20000], shuffle=True, epochs=50, validation_data=(x_test[:10000], y_test[:10000]), verbose=1)"
   ]
  },
  {
   "cell_type": "code",
   "execution_count": null,
   "metadata": {
    "collapsed": true
   },
   "outputs": [],
   "source": []
  }
 ],
 "metadata": {
  "kernelspec": {
   "display_name": "Python 3",
   "language": "python",
   "name": "python3"
  },
  "language_info": {
   "codemirror_mode": {
    "name": "ipython",
    "version": 3
   },
   "file_extension": ".py",
   "mimetype": "text/x-python",
   "name": "python",
   "nbconvert_exporter": "python",
   "pygments_lexer": "ipython3",
   "version": "3.6.1"
  }
 },
 "nbformat": 4,
 "nbformat_minor": 2
}
