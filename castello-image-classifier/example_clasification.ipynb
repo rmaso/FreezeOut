{
 "cells": [
  {
   "cell_type": "code",
   "execution_count": 1,
   "metadata": {
    "collapsed": false
   },
   "outputs": [
    {
     "name": "stderr",
     "output_type": "stream",
     "text": [
      "Using TensorFlow backend.\n"
     ]
    },
    {
     "data": {
      "text/plain": [
       "'2.0.8'"
      ]
     },
     "execution_count": 1,
     "metadata": {},
     "output_type": "execute_result"
    }
   ],
   "source": [
    "import keras\n",
    "keras.__version__"
   ]
  },
  {
   "cell_type": "code",
   "execution_count": 94,
   "metadata": {
    "collapsed": false
   },
   "outputs": [
    {
     "data": {
      "text/plain": [
       "'CUARTROOCHENTA'"
      ]
     },
     "execution_count": 94,
     "metadata": {},
     "output_type": "execute_result"
    }
   ],
   "source": [
    "classes = [\"CUARTROOCHENTA\",\n",
    "\"IOTSENS\",\n",
    "\"NAYARSYSTEMS\",\n",
    "\"PAYNOPAIN\",\n",
    "\"\",\n",
    "\"GIT\",\n",
    "\"GO\",\n",
    "\"NDCS\",\n",
    "\"NODEJS\",\n",
    "\"PYTHON\"\n",
    "]\n",
    "\n",
    "classes[0]"
   ]
  },
  {
   "cell_type": "code",
   "execution_count": 3,
   "metadata": {
    "collapsed": false
   },
   "outputs": [],
   "source": [
    "from keras.models import load_model\n",
    "\n",
    "model = load_model('model_vgg16.h5')"
   ]
  },
  {
   "cell_type": "code",
   "execution_count": 95,
   "metadata": {
    "collapsed": false
   },
   "outputs": [],
   "source": [
    "from keras.preprocessing import image\n",
    "from keras.applications.imagenet_utils import preprocess_input\n",
    "from scipy.misc import imread\n",
    "import numpy as np\n",
    "\n",
    "inputs = []\n",
    "images = []\n",
    "img_path = './logos/test/480/images (1).jpeg'\n",
    "img = image.load_img(img_path, target_size=(150, 150))\n",
    "img = image.img_to_array(img)\n",
    "images.append(imread(img_path))\n",
    "inputs.append(img.copy())\n",
    "\n",
    "img_path = './logos/train/Iotsens/descarga (1).png'\n",
    "img = image.load_img(img_path, target_size=(150, 150))\n",
    "img = image.img_to_array(img)\n",
    "images.append(imread(img_path))\n",
    "inputs.append(img.copy())\n",
    "\n",
    "\n",
    "img_path = './logos/train/Iotsens/descarga.png'\n",
    "img = image.load_img(img_path, target_size=(150, 150))\n",
    "img = image.img_to_array(img)\n",
    "images.append(imread(img_path))\n",
    "inputs.append(img.copy())\n",
    "\n",
    "\n",
    "img_path = './logos/train/Nayarsystems/descarga (1).png'\n",
    "img = image.load_img(img_path, target_size=(150, 150))\n",
    "img = image.img_to_array(img)\n",
    "images.append(imread(img_path))\n",
    "inputs.append(img.copy())\n",
    "\n",
    "img_path = './logos/train/Nayarsystems/descarga (9).jpeg'\n",
    "img = image.load_img(img_path, target_size=(150, 150))\n",
    "img = image.img_to_array(img)\n",
    "images.append(imread(img_path))\n",
    "inputs.append(img.copy())\n",
    "\n",
    "\n",
    "\n",
    "img_path = './logos/train/git/images.jpeg'\n",
    "img = image.load_img(img_path, target_size=(150, 150))\n",
    "img = image.img_to_array(img)\n",
    "images.append(imread(img_path))\n",
    "inputs.append(img.copy())\n",
    "\n",
    "img_path = './logos/train/git/images.png'\n",
    "img = image.load_img(img_path, target_size=(150, 150))\n",
    "img = image.img_to_array(img)\n",
    "images.append(imread(img_path))\n",
    "inputs.append(img.copy())\n",
    "\n",
    "img_path = './logos/train/git/descarga (8).png'\n",
    "img = image.load_img(img_path, target_size=(150, 150))\n",
    "img = image.img_to_array(img)\n",
    "images.append(imread(img_path))\n",
    "inputs.append(img.copy())\n",
    "\n",
    "img_path = './logos/train/go/images (2).jpeg'\n",
    "img = image.load_img(img_path, target_size=(150, 150))\n",
    "img = image.img_to_array(img)\n",
    "images.append(imread(img_path))\n",
    "inputs.append(img.copy())\n",
    "\n",
    "img_path = './logos/train/go/images (3).png'\n",
    "img = image.load_img(img_path, target_size=(150, 150))\n",
    "img = image.img_to_array(img)\n",
    "images.append(imread(img_path))\n",
    "inputs.append(img.copy())\n",
    "\n",
    "\n",
    "\n",
    "\n",
    "\n",
    "img_path = './logos/train/ndcs/descarga.jpeg'\n",
    "img = image.load_img(img_path, target_size=(150, 150))\n",
    "img = image.img_to_array(img)\n",
    "images.append(imread(img_path))\n",
    "inputs.append(img.copy())\n",
    "\n",
    "img_path = './logos/train/ndcs/descarga (1).jpeg'\n",
    "img = image.load_img(img_path, target_size=(150, 150))\n",
    "img = image.img_to_array(img)\n",
    "images.append(imread(img_path))\n",
    "inputs.append(img.copy())\n",
    "\n",
    "img_path = './logos/test/ndcs/logo_conjunto.jpg'\n",
    "img = image.load_img(img_path, target_size=(150, 150))\n",
    "img = image.img_to_array(img)\n",
    "images.append(imread(img_path))\n",
    "inputs.append(img.copy())\n",
    "\n",
    "img_path = './logos/train/nodejs/descarga (1).png'\n",
    "img = image.load_img(img_path, target_size=(150, 150))\n",
    "img = image.img_to_array(img)\n",
    "images.append(imread(img_path))\n",
    "inputs.append(img.copy())\n",
    "\n",
    "img_path = './logos/train/nodejs/descarga (12).jpeg'\n",
    "img = image.load_img(img_path, target_size=(150, 150))\n",
    "img = image.img_to_array(img)\n",
    "images.append(imread(img_path))\n",
    "inputs.append(img.copy())\n",
    "\n",
    "img_path = './logos/train/python/444.jpeg'\n",
    "img = image.load_img(img_path, target_size=(150, 150))\n",
    "img = image.img_to_array(img)\n",
    "images.append(imread(img_path))\n",
    "inputs.append(img.copy())\n",
    "\n",
    "img_path = './logos/test/python/images.jpeg'\n",
    "img = image.load_img(img_path, target_size=(150, 150))\n",
    "img = image.img_to_array(img)\n",
    "images.append(imread(img_path))\n",
    "inputs.append(img.copy())\n",
    "\n",
    "img_path = './logos/train/PaynoPain/blog-paynopain.jpg'\n",
    "img = image.load_img(img_path, target_size=(150, 150))\n",
    "img = image.img_to_array(img)\n",
    "images.append(imread(img_path))\n",
    "inputs.append(img.copy())\n",
    "\n",
    "img_path = './logos/train/PaynoPain/20160608_141524.jpg'\n",
    "img = image.load_img(img_path, target_size=(150, 150))\n",
    "img = image.img_to_array(img)\n",
    "images.append(imread(img_path))\n",
    "inputs.append(img.copy())\n",
    "\n",
    "img_path = './logos/train/PaynoPain/images (2).jpeg'\n",
    "img = image.load_img(img_path, target_size=(150, 150))\n",
    "img = image.img_to_array(img)\n",
    "images.append(imread(img_path))\n",
    "inputs.append(img.copy())\n",
    "\n",
    "\n",
    "img_path = './logos/logo_inbenta.png'\n",
    "img = image.load_img(img_path, target_size=(150, 150))\n",
    "img = image.img_to_array(img)\n",
    "images.append(imread(img_path))\n",
    "inputs.append(img.copy())\n",
    "\n",
    "inputs = preprocess_input(np.array(inputs))"
   ]
  },
  {
   "cell_type": "code",
   "execution_count": 102,
   "metadata": {
    "collapsed": false
   },
   "outputs": [
    {
     "name": "stdout",
     "output_type": "stream",
     "text": [
      "20/21 [===========================>..] - ETA: 0s"
     ]
    }
   ],
   "source": [
    "preds_classes = model.predict_classes(inputs, batch_size=1, verbose=1)"
   ]
  },
  {
   "cell_type": "code",
   "execution_count": 103,
   "metadata": {
    "collapsed": false
   },
   "outputs": [
    {
     "data": {
      "text/plain": [
       "array([0, 1, 1, 2, 2, 5, 5, 5, 6, 6, 7, 7, 7, 8, 8, 9, 9, 3, 3, 3, 3])"
      ]
     },
     "execution_count": 103,
     "metadata": {},
     "output_type": "execute_result"
    }
   ],
   "source": [
    "preds_classes"
   ]
  },
  {
   "cell_type": "code",
   "execution_count": 104,
   "metadata": {
    "collapsed": false
   },
   "outputs": [
    {
     "name": "stdout",
     "output_type": "stream",
     "text": [
      "CUARTROOCHENTA\n",
      "IOTSENS\n",
      "IOTSENS\n",
      "NAYARSYSTEMS\n",
      "NAYARSYSTEMS\n",
      "GIT\n",
      "GIT\n",
      "GIT\n",
      "GO\n",
      "GO\n",
      "NDCS\n",
      "NDCS\n",
      "NDCS\n",
      "NODEJS\n",
      "NODEJS\n",
      "PYTHON\n",
      "PYTHON\n",
      "PAYNOPAIN\n",
      "PAYNOPAIN\n",
      "PAYNOPAIN\n",
      "PAYNOPAIN\n"
     ]
    }
   ],
   "source": [
    "for i in preds_classes:\n",
    "    print(classes[i])"
   ]
  },
  {
   "cell_type": "code",
   "execution_count": null,
   "metadata": {
    "collapsed": true
   },
   "outputs": [],
   "source": []
  }
 ],
 "metadata": {
  "kernelspec": {
   "display_name": "Python 3",
   "language": "python",
   "name": "python3"
  },
  "language_info": {
   "codemirror_mode": {
    "name": "ipython",
    "version": 3
   },
   "file_extension": ".py",
   "mimetype": "text/x-python",
   "name": "python",
   "nbconvert_exporter": "python",
   "pygments_lexer": "ipython3",
   "version": "3.5.2"
  }
 },
 "nbformat": 4,
 "nbformat_minor": 2
}
